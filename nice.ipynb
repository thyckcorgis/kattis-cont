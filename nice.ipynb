{
 "cells": [
  {
   "cell_type": "code",
   "execution_count": 2,
   "metadata": {},
   "outputs": [],
   "source": [
    "from bs4 import BeautifulSoup"
   ]
  },
  {
   "cell_type": "code",
   "execution_count": 3,
   "metadata": {},
   "outputs": [],
   "source": [
    "with open('page.html','rb') as f:\n",
    "    s=f.read()"
   ]
  },
  {
   "cell_type": "code",
   "execution_count": 4,
   "metadata": {},
   "outputs": [],
   "source": [
    "soup = BeautifulSoup(s, 'html.parser')"
   ]
  },
  {
   "cell_type": "code",
   "execution_count": 7,
   "metadata": {},
   "outputs": [],
   "source": [
    "submissions = soup.find(id='submissions')"
   ]
  },
  {
   "cell_type": "code",
   "execution_count": 22,
   "metadata": {},
   "outputs": [
    {
     "name": "stdout",
     "output_type": "stream",
     "text": [
      "?page=1&status=AC\n"
     ]
    }
   ],
   "source": [
    "btns = soup.find(id='problem_list_paginate')\n",
    "\n",
    "def enabled(a):\n",
    "    return 'button-basic-disabled' not in a['class']\n",
    "next_btn=btns.find_all('a')[1]\n",
    "if enabled(next_btn):\n",
    "    print(next_btn['href'])\n"
   ]
  },
  {
   "cell_type": "code",
   "execution_count": 27,
   "metadata": {},
   "outputs": [],
   "source": [
    "cols = [d.text for d in submissions.thead.find_all('th')[1:-1]]"
   ]
  },
  {
   "cell_type": "code",
   "execution_count": 32,
   "metadata": {},
   "outputs": [],
   "source": [
    "# the other row is the test cases, which we don't care about\n",
    "subs = submissions.tbody.find_all('tr')[::2]"
   ]
  },
  {
   "cell_type": "code",
   "execution_count": 57,
   "metadata": {},
   "outputs": [],
   "source": [
    "def parse_sub(s):\n",
    "    sub_id = s['data-submission-id']\n",
    "    row=s.find_all('td')[1:-1]\n",
    "    res=dict(zip(cols, [d.text.replace('\\xa0', ' ') for d in row] ))\n",
    "    res['URL']=row[1].a['href']\n",
    "    return res\n",
    "    \n",
    "s_table = [parse_sub(s) for s in subs]"
   ]
  },
  {
   "cell_type": "code",
   "execution_count": 60,
   "metadata": {},
   "outputs": [],
   "source": [
    "import polars as pl\n",
    "# s_table"
   ]
  },
  {
   "cell_type": "code",
   "execution_count": 61,
   "metadata": {},
   "outputs": [
    {
     "data": {
      "text/html": [
       "<div><style>\n",
       ".dataframe > thead > tr > th,\n",
       ".dataframe > tbody > tr > td {\n",
       "  text-align: right;\n",
       "}\n",
       "</style>\n",
       "<small>shape: (100, 7)</small><table border=\"1\" class=\"dataframe\"><thead><tr><th>Date</th><th>Problem</th><th>Judgement</th><th>Runtime</th><th>Language</th><th>Test cases</th><th>URL</th></tr><tr><td>str</td><td>str</td><td>str</td><td>str</td><td>str</td><td>str</td><td>str</td></tr></thead><tbody><tr><td>&quot;14:37:12&quot;</td><td>&quot;Reverse Rot&quot;</td><td>&quot;Accepted&quot;</td><td>&quot;0.05 s&quot;</td><td>&quot;Python 3&quot;</td><td>&quot;2/2&quot;</td><td>&quot;/problems/reve…</td></tr><tr><td>&quot;14:33:59&quot;</td><td>&quot;School Spirit&quot;</td><td>&quot;Accepted&quot;</td><td>&quot;0.05 s&quot;</td><td>&quot;Python 3&quot;</td><td>&quot;12/12&quot;</td><td>&quot;/problems/scho…</td></tr><tr><td>&quot;14:30:43&quot;</td><td>&quot;School Spirit&quot;</td><td>&quot;Accepted&quot;</td><td>&quot;0.05 s&quot;</td><td>&quot;Python 3&quot;</td><td>&quot;12/12&quot;</td><td>&quot;/problems/scho…</td></tr><tr><td>&quot;14:27:17&quot;</td><td>&quot;Secure Doors&quot;</td><td>&quot;Accepted&quot;</td><td>&quot;0.08 s&quot;</td><td>&quot;Python 3&quot;</td><td>&quot;2/2&quot;</td><td>&quot;/problems/secu…</td></tr><tr><td>&quot;14:25:16&quot;</td><td>&quot;Secure Doors&quot;</td><td>&quot;Accepted&quot;</td><td>&quot;0.07 s&quot;</td><td>&quot;Python 3&quot;</td><td>&quot;2/2&quot;</td><td>&quot;/problems/secu…</td></tr><tr><td>&quot;14:17:04&quot;</td><td>&quot;Server&quot;</td><td>&quot;Accepted&quot;</td><td>&quot;0.05 s&quot;</td><td>&quot;Python 3&quot;</td><td>&quot;20/20&quot;</td><td>&quot;/problems/serv…</td></tr><tr><td>&quot;14:15:21&quot;</td><td>&quot;Synchronizing …</td><td>&quot;Accepted&quot;</td><td>&quot;0.09 s&quot;</td><td>&quot;Python 3&quot;</td><td>&quot;2/2&quot;</td><td>&quot;/problems/sync…</td></tr><tr><td>&quot;14:08:13&quot;</td><td>&quot;Adding Trouble…</td><td>&quot;Accepted&quot;</td><td>&quot;0.04 s&quot;</td><td>&quot;Python 3&quot;</td><td>&quot;119/119&quot;</td><td>&quot;/problems/addi…</td></tr><tr><td>&quot;14:07:23&quot;</td><td>&quot;T9 Spelling&quot;</td><td>&quot;Accepted&quot;</td><td>&quot;0.07 s&quot;</td><td>&quot;Python 3&quot;</td><td>&quot;3/3&quot;</td><td>&quot;/problems/t9sp…</td></tr><tr><td>&quot;14:04:58&quot;</td><td>&quot;T9 Spelling&quot;</td><td>&quot;Accepted&quot;</td><td>&quot;0.07 s&quot;</td><td>&quot;Python 3&quot;</td><td>&quot;3/3&quot;</td><td>&quot;/problems/t9sp…</td></tr><tr><td>&quot;13:54:22&quot;</td><td>&quot;Tajna&quot;</td><td>&quot;Accepted&quot;</td><td>&quot;0.05 s&quot;</td><td>&quot;Python 3&quot;</td><td>&quot;11/11&quot;</td><td>&quot;/problems/tajn…</td></tr><tr><td>&quot;13:52:38&quot;</td><td>&quot;Tetris&quot;</td><td>&quot;Accepted&quot;</td><td>&quot;0.05 s&quot;</td><td>&quot;Python 3&quot;</td><td>&quot;24/24&quot;</td><td>&quot;/problems/tetr…</td></tr><tr><td>&hellip;</td><td>&hellip;</td><td>&hellip;</td><td>&hellip;</td><td>&hellip;</td><td>&hellip;</td><td>&hellip;</td></tr><tr><td>&quot;2023-03-28 02:…</td><td>&quot;Fast Food Priz…</td><td>&quot;Accepted&quot;</td><td>&quot;0.18 s&quot;</td><td>&quot;Python 3&quot;</td><td>&quot;6/6&quot;</td><td>&quot;/problems/fast…</td></tr><tr><td>&quot;2023-03-28 02:…</td><td>&quot;Fast Food Priz…</td><td>&quot;Accepted&quot;</td><td>&quot;0.18 s&quot;</td><td>&quot;Python 3&quot;</td><td>&quot;6/6&quot;</td><td>&quot;/problems/fast…</td></tr><tr><td>&quot;2023-03-28 02:…</td><td>&quot;Bits Equalizer…</td><td>&quot;Accepted&quot;</td><td>&quot;0.06 s&quot;</td><td>&quot;Python 3&quot;</td><td>&quot;2/2&quot;</td><td>&quot;/problems/bits…</td></tr><tr><td>&quot;2023-03-28 02:…</td><td>&quot;Bits Equalizer…</td><td>&quot;Accepted&quot;</td><td>&quot;0.06 s&quot;</td><td>&quot;Python 3&quot;</td><td>&quot;2/2&quot;</td><td>&quot;/problems/bits…</td></tr><tr><td>&quot;2023-03-28 02:…</td><td>&quot;Bits Equalizer…</td><td>&quot;Accepted&quot;</td><td>&quot;0.06 s&quot;</td><td>&quot;Python 3&quot;</td><td>&quot;2/2&quot;</td><td>&quot;/problems/bits…</td></tr><tr><td>&quot;2023-03-28 02:…</td><td>&quot;Bits Equalizer…</td><td>&quot;Accepted&quot;</td><td>&quot;0.06 s&quot;</td><td>&quot;Python 3&quot;</td><td>&quot;2/2&quot;</td><td>&quot;/problems/bits…</td></tr><tr><td>&quot;2023-03-28 01:…</td><td>&quot;Battle Simulat…</td><td>&quot;Accepted&quot;</td><td>&quot;0.12 s&quot;</td><td>&quot;Python 3&quot;</td><td>&quot;19/19&quot;</td><td>&quot;/problems/batt…</td></tr><tr><td>&quot;2023-03-28 01:…</td><td>&quot;Battle Simulat…</td><td>&quot;Accepted&quot;</td><td>&quot;0.12 s&quot;</td><td>&quot;Python 3&quot;</td><td>&quot;19/19&quot;</td><td>&quot;/problems/batt…</td></tr><tr><td>&quot;2023-03-28 01:…</td><td>&quot;Sok&quot;</td><td>&quot;Accepted&quot;</td><td>&quot;0.04 s&quot;</td><td>&quot;Python 3&quot;</td><td>&quot;13/13&quot;</td><td>&quot;/problems/sok&quot;</td></tr><tr><td>&quot;2023-03-28 01:…</td><td>&quot;Prerequisites?…</td><td>&quot;Accepted&quot;</td><td>&quot;0.29 s&quot;</td><td>&quot;Python 3&quot;</td><td>&quot;3/3&quot;</td><td>&quot;/problems/prer…</td></tr><tr><td>&quot;2023-03-28 01:…</td><td>&quot;Missing Number…</td><td>&quot;Accepted&quot;</td><td>&quot;0.05 s&quot;</td><td>&quot;Python 3&quot;</td><td>&quot;12/12&quot;</td><td>&quot;/problems/miss…</td></tr><tr><td>&quot;2023-03-28 01:…</td><td>&quot;Exactly Electr…</td><td>&quot;Accepted&quot;</td><td>&quot;0.05 s&quot;</td><td>&quot;Python 3&quot;</td><td>&quot;17/17&quot;</td><td>&quot;/problems/exac…</td></tr></tbody></table></div>"
      ],
      "text/plain": [
       "shape: (100, 7)\n",
       "┌────────────┬───────────────────┬───────────┬─────────┬──────────┬────────────┬───────────────────┐\n",
       "│ Date       ┆ Problem           ┆ Judgement ┆ Runtime ┆ Language ┆ Test cases ┆ URL               │\n",
       "│ ---        ┆ ---               ┆ ---       ┆ ---     ┆ ---      ┆ ---        ┆ ---               │\n",
       "│ str        ┆ str               ┆ str       ┆ str     ┆ str      ┆ str        ┆ str               │\n",
       "╞════════════╪═══════════════════╪═══════════╪═════════╪══════════╪════════════╪═══════════════════╡\n",
       "│ 14:37:12   ┆ Reverse Rot       ┆ Accepted  ┆ 0.05 s  ┆ Python 3 ┆ 2/2        ┆ /problems/reverse │\n",
       "│            ┆                   ┆           ┆         ┆          ┆            ┆ rot               │\n",
       "│ 14:33:59   ┆ School Spirit     ┆ Accepted  ┆ 0.05 s  ┆ Python 3 ┆ 12/12      ┆ /problems/schools │\n",
       "│            ┆                   ┆           ┆         ┆          ┆            ┆ pirit             │\n",
       "│ 14:30:43   ┆ School Spirit     ┆ Accepted  ┆ 0.05 s  ┆ Python 3 ┆ 12/12      ┆ /problems/schools │\n",
       "│            ┆                   ┆           ┆         ┆          ┆            ┆ pirit             │\n",
       "│ 14:27:17   ┆ Secure Doors      ┆ Accepted  ┆ 0.08 s  ┆ Python 3 ┆ 2/2        ┆ /problems/secured │\n",
       "│            ┆                   ┆           ┆         ┆          ┆            ┆ oors              │\n",
       "│ …          ┆ …                 ┆ …         ┆ …       ┆ …        ┆ …          ┆ …                 │\n",
       "│ 2023-03-28 ┆ Sok               ┆ Accepted  ┆ 0.04 s  ┆ Python 3 ┆ 13/13      ┆ /problems/sok     │\n",
       "│ 01:41:19   ┆                   ┆           ┆         ┆          ┆            ┆                   │\n",
       "│ 2023-03-28 ┆ Prerequisites?    ┆ Accepted  ┆ 0.29 s  ┆ Python 3 ┆ 3/3        ┆ /problems/prerequ │\n",
       "│ 01:38:14   ┆                   ┆           ┆         ┆          ┆            ┆ isites            │\n",
       "│ 2023-03-28 ┆ Missing Numbers   ┆ Accepted  ┆ 0.05 s  ┆ Python 3 ┆ 12/12      ┆ /problems/missing │\n",
       "│ 01:30:03   ┆                   ┆           ┆         ┆          ┆            ┆ numbers           │\n",
       "│ 2023-03-28 ┆ Exactly           ┆ Accepted  ┆ 0.05 s  ┆ Python 3 ┆ 17/17      ┆ /problems/exactly │\n",
       "│ 01:25:54   ┆ Electrical        ┆           ┆         ┆          ┆            ┆ electrical        │\n",
       "└────────────┴───────────────────┴───────────┴─────────┴──────────┴────────────┴───────────────────┘"
      ]
     },
     "execution_count": 61,
     "metadata": {},
     "output_type": "execute_result"
    }
   ],
   "source": [
    "pl.DataFrame(s_table)"
   ]
  }
 ],
 "metadata": {
  "kernelspec": {
   "display_name": "nb-env",
   "language": "python",
   "name": "python3"
  },
  "language_info": {
   "codemirror_mode": {
    "name": "ipython",
    "version": 3
   },
   "file_extension": ".py",
   "mimetype": "text/x-python",
   "name": "python",
   "nbconvert_exporter": "python",
   "pygments_lexer": "ipython3",
   "version": "3.10.6"
  },
  "orig_nbformat": 4
 },
 "nbformat": 4,
 "nbformat_minor": 2
}
