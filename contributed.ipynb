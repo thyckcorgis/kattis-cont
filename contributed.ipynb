{
 "cells": [
  {
   "cell_type": "code",
   "execution_count": 3,
   "metadata": {},
   "outputs": [],
   "source": [
    "import polars as pl\n",
    "import kattis\n",
    "from kattis import parse_page, get_page, URLS"
   ]
  },
  {
   "cell_type": "code",
   "execution_count": null,
   "metadata": {},
   "outputs": [],
   "source": [
    "df = kattis.get_universities()\n",
    "url = df[0]['Country URL'][0]\n",
    "\n",
    "swe_df = kattis.get_group_df(url)\n",
    "# p = parse_page(get_page(url))"
   ]
  },
  {
   "cell_type": "code",
   "execution_count": 4,
   "metadata": {},
   "outputs": [
    {
     "data": {
      "text/html": [
       "<div><style>\n",
       ".dataframe > thead > tr > th,\n",
       ".dataframe > tbody > tr > td {\n",
       "  text-align: right;\n",
       "}\n",
       "</style>\n",
       "<small>shape: (50, 5)</small><table border=\"1\" class=\"dataframe\"><thead><tr><th>Rank</th><th>Name</th><th>Score</th><th>URL</th><th>Contributed</th></tr><tr><td>i64</td><td>str</td><td>f64</td><td>str</td><td>f64</td></tr></thead><tbody><tr><td>0</td><td>&quot;Zac Friggstad&quot;</td><td>6546.5</td><td>&quot;/users/friggstad&quot;</td><td>1309.3</td></tr><tr><td>1</td><td>&quot;Ragur Krishnan&quot;</td><td>2658.6</td><td>&quot;/users/ragur-krishnan&quot;</td><td>425.376</td></tr><tr><td>2</td><td>&quot;Jason Cannon&quot;</td><td>2595.9</td><td>&quot;/users/jasoncannon&quot;</td><td>332.2752</td></tr><tr><td>3</td><td>&quot;Md Akif Chowdhury&quot;</td><td>2495.7</td><td>&quot;/users/md-akif-chowdhury&quot;</td><td>255.55968</td></tr><tr><td>4</td><td>&quot;Ahmed Siadomar&quot;</td><td>1568.2</td><td>&quot;/users/ahmed-siadomar-0865&quot;</td><td>128.466944</td></tr><tr><td>5</td><td>&quot;Noah Weninger&quot;</td><td>1503.0</td><td>&quot;/users/noah-weninger&quot;</td><td>98.500608</td></tr><tr><td>6</td><td>&quot;Anshil Gandhi&quot;</td><td>1297.4</td><td>&quot;/users/anshil-gandhi&quot;</td><td>68.021125</td></tr><tr><td>7</td><td>&quot;Mark Thomas&quot;</td><td>1058.1</td><td>&quot;/users/marktee&quot;</td><td>44.379931</td></tr><tr><td>8</td><td>&quot;Weiguo Jiang&quot;</td><td>1040.5</td><td>&quot;/users/weiguo-jiang1&quot;</td><td>34.913386</td></tr><tr><td>9</td><td>&quot;Noah Gergel&quot;</td><td>1016.0</td><td>&quot;/users/ngergel&quot;</td><td>27.273042</td></tr><tr><td>10</td><td>&quot;Grayden Price&quot;</td><td>960.8</td><td>&quot;/users/grayden-price&quot;</td><td>20.633023</td></tr><tr><td>11</td><td>&quot;Charles Ancheta&quot;</td><td>892.3</td><td>&quot;/users/cbebe&quot;</td><td>15.329597</td></tr><tr><td>12</td><td>&quot;Kexuan Miao&quot;</td><td>853.6</td><td>&quot;/users/kexuan-miao&quot;</td><td>11.731789</td></tr><tr><td>13</td><td>&quot;Sam Wu&quot;</td><td>821.0</td><td>&quot;/users/samjwu&quot;</td><td>9.02699</td></tr><tr><td>14</td><td>&quot;William Chorkawy&quot;</td><td>738.5</td><td>&quot;/users/william-chorkawy&quot;</td><td>6.495915</td></tr><tr><td>15</td><td>&quot;Gurveer Singh Sohal&quot;</td><td>721.3</td><td>&quot;/users/gsohal20&quot;</td><td>5.075698</td></tr><tr><td>16</td><td>&quot;Kaaden RumanCam&quot;</td><td>679.9</td><td>&quot;/users/shellberttorkaaden&quot;</td><td>3.827497</td></tr><tr><td>17</td><td>&quot;Tran Tuong Minh Nguyen&quot;</td><td>643.0</td><td>&quot;/users/tran-tuong-minh-nguyen-6662&quot;</td><td>2.895815</td></tr><tr><td>18</td><td>&quot;Veronica Salm&quot;</td><td>642.8</td><td>&quot;/users/veronica-salm1&quot;</td><td>2.315931</td></tr><tr><td>19</td><td>&quot;Michael Wong&quot;</td><td>615.3</td><td>&quot;/users/mcwong2&quot;</td><td>1.773482</td></tr><tr><td>20</td><td>&quot;Haruto Tanaka&quot;</td><td>574.7</td><td>&quot;/users/haruto&quot;</td><td>1.325168</td></tr><tr><td>21</td><td>&quot;Zachariah Goldthorpe&quot;</td><td>568.3</td><td>&quot;/users/zachariah-goldthorpe-5702&quot;</td><td>1.048328</td></tr><tr><td>22</td><td>&quot;Isaak Coleman&quot;</td><td>554.3</td><td>&quot;/users/isaak-coleman&quot;</td><td>0.818002</td></tr><tr><td>23</td><td>&quot;Curtis Kan&quot;</td><td>502.2</td><td>&quot;/users/lecitrus&quot;</td><td>0.592893</td></tr><tr><td>24</td><td>&quot;Brian Kang&quot;</td><td>479.0</td><td>&quot;/users/brian-kang&quot;</td><td>0.452403</td></tr><tr><td>25</td><td>&quot;Joshua Ji&quot;</td><td>468.1</td><td>&quot;/users/joshua-ji&quot;</td><td>0.353686</td></tr><tr><td>26</td><td>&quot;Jiabin Fan&quot;</td><td>457.6</td><td>&quot;/users/jiabin-fan&quot;</td><td>0.276602</td></tr><tr><td>27</td><td>&quot;Ivan Zhang&quot;</td><td>434.1</td><td>&quot;/users/zhang-yifan&quot;</td><td>0.209918</td></tr><tr><td>28</td><td>&quot;Tim Put&quot;</td><td>429.0</td><td>&quot;/users/tim-put&quot;</td><td>0.165961</td></tr><tr><td>29</td><td>&quot;Jack Parsons&quot;</td><td>426.1</td><td>&quot;/users/jack-parsonss&quot;</td><td>0.131872</td></tr><tr><td>30</td><td>&quot;Jerry Xu&quot;</td><td>424.8</td><td>&quot;/users/jerry-xu-20&quot;</td><td>0.105175</td></tr><tr><td>31</td><td>&quot;Hien Le&quot;</td><td>423.4</td><td>&quot;/users/hien-le-1316&quot;</td><td>0.083863</td></tr><tr><td>32</td><td>&quot;Vedant Vyas&quot;</td><td>410.6</td><td>&quot;/users/vedu-x&quot;</td><td>0.065062</td></tr><tr><td>33</td><td>&quot;Marcus Der&quot;</td><td>390.7</td><td>&quot;/users/marcus-der&quot;</td><td>0.049527</td></tr><tr><td>34</td><td>&quot;Hazem Ammar&quot;</td><td>364.7</td><td>&quot;/users/hazem-ammar1&quot;</td><td>0.036985</td></tr><tr><td>35</td><td>&quot;Boyuan Gu&quot;</td><td>353.4</td><td>&quot;/users/char32&quot;</td><td>0.028671</td></tr><tr><td>36</td><td>&quot;Benjamin Lehmann&quot;</td><td>353.3</td><td>&quot;/users/benjamin-lehmann&quot;</td><td>0.02293</td></tr><tr><td>37</td><td>&quot;Andrew Juwon Park&quot;</td><td>351.8</td><td>&quot;/users/andrew-juwon-park&quot;</td><td>0.018267</td></tr><tr><td>38</td><td>&quot;Chong Wang&quot;</td><td>337.0</td><td>&quot;/users/chong-wang1&quot;</td><td>0.013998</td></tr><tr><td>39</td><td>&quot;Jiacheng Wu&quot;</td><td>335.1</td><td>&quot;/users/jiacheng-wu-6787&quot;</td><td>0.011136</td></tr><tr><td>40</td><td>&quot;Tianyu Zhang&quot;</td><td>333.7</td><td>&quot;/users/tzhang6&quot;</td><td>0.008871</td></tr><tr><td>41</td><td>&quot;Yunpeng Tang&quot;</td><td>331.3</td><td>&quot;/users/claris&quot;</td><td>0.007046</td></tr><tr><td>42</td><td>&quot;Mason Bly&quot;</td><td>330.5</td><td>&quot;/users/mason-bly&quot;</td><td>0.005623</td></tr><tr><td>43</td><td>&quot;Patchy&quot;</td><td>329.0</td><td>&quot;/users/cerret&quot;</td><td>0.004478</td></tr><tr><td>44</td><td>&quot;Yancheng Ou&quot;</td><td>328.9</td><td>&quot;/users/yancheng-ou&quot;</td><td>0.003581</td></tr><tr><td>45</td><td>&quot;Akemi Izuko&quot;</td><td>328.6</td><td>&quot;/users/akemi&quot;</td><td>0.002863</td></tr><tr><td>46</td><td>&quot;Xiaole Zeng&quot;</td><td>322.0</td><td>&quot;/users/xiaole2&quot;</td><td>0.002244</td></tr><tr><td>47</td><td>&quot;Peter Elliott&quot;</td><td>320.8</td><td>&quot;/users/petelliott&quot;</td><td>0.001789</td></tr><tr><td>48</td><td>&quot;Zeyu Li&quot;</td><td>313.2</td><td>&quot;/users/zeyu-li&quot;</td><td>0.001397</td></tr><tr><td>49</td><td>&quot;Steven Tang&quot;</td><td>305.9</td><td>&quot;/users/steven-tang&quot;</td><td>0.001091</td></tr></tbody></table></div>"
      ],
      "text/plain": [
       "shape: (50, 5)\n",
       "┌──────┬────────────────────────┬────────┬────────────────────────────────────┬─────────────┐\n",
       "│ Rank ┆ Name                   ┆ Score  ┆ URL                                ┆ Contributed │\n",
       "│ ---  ┆ ---                    ┆ ---    ┆ ---                                ┆ ---         │\n",
       "│ i64  ┆ str                    ┆ f64    ┆ str                                ┆ f64         │\n",
       "╞══════╪════════════════════════╪════════╪════════════════════════════════════╪═════════════╡\n",
       "│ 0    ┆ Zac Friggstad          ┆ 6546.5 ┆ /users/friggstad                   ┆ 1309.3      │\n",
       "│ 1    ┆ Ragur Krishnan         ┆ 2658.6 ┆ /users/ragur-krishnan              ┆ 425.376     │\n",
       "│ 2    ┆ Jason Cannon           ┆ 2595.9 ┆ /users/jasoncannon                 ┆ 332.2752    │\n",
       "│ 3    ┆ Md Akif Chowdhury      ┆ 2495.7 ┆ /users/md-akif-chowdhury           ┆ 255.55968   │\n",
       "│ 4    ┆ Ahmed Siadomar         ┆ 1568.2 ┆ /users/ahmed-siadomar-0865         ┆ 128.466944  │\n",
       "│ 5    ┆ Noah Weninger          ┆ 1503.0 ┆ /users/noah-weninger               ┆ 98.500608   │\n",
       "│ 6    ┆ Anshil Gandhi          ┆ 1297.4 ┆ /users/anshil-gandhi               ┆ 68.021125   │\n",
       "│ 7    ┆ Mark Thomas            ┆ 1058.1 ┆ /users/marktee                     ┆ 44.379931   │\n",
       "│ 8    ┆ Weiguo Jiang           ┆ 1040.5 ┆ /users/weiguo-jiang1               ┆ 34.913386   │\n",
       "│ 9    ┆ Noah Gergel            ┆ 1016.0 ┆ /users/ngergel                     ┆ 27.273042   │\n",
       "│ 10   ┆ Grayden Price          ┆ 960.8  ┆ /users/grayden-price               ┆ 20.633023   │\n",
       "│ 11   ┆ Charles Ancheta        ┆ 892.3  ┆ /users/cbebe                       ┆ 15.329597   │\n",
       "│ 12   ┆ Kexuan Miao            ┆ 853.6  ┆ /users/kexuan-miao                 ┆ 11.731789   │\n",
       "│ 13   ┆ Sam Wu                 ┆ 821.0  ┆ /users/samjwu                      ┆ 9.02699     │\n",
       "│ 14   ┆ William Chorkawy       ┆ 738.5  ┆ /users/william-chorkawy            ┆ 6.495915    │\n",
       "│ 15   ┆ Gurveer Singh Sohal    ┆ 721.3  ┆ /users/gsohal20                    ┆ 5.075698    │\n",
       "│ 16   ┆ Kaaden RumanCam        ┆ 679.9  ┆ /users/shellberttorkaaden          ┆ 3.827497    │\n",
       "│ 17   ┆ Tran Tuong Minh Nguyen ┆ 643.0  ┆ /users/tran-tuong-minh-nguyen-6662 ┆ 2.895815    │\n",
       "│ 18   ┆ Veronica Salm          ┆ 642.8  ┆ /users/veronica-salm1              ┆ 2.315931    │\n",
       "│ 19   ┆ Michael Wong           ┆ 615.3  ┆ /users/mcwong2                     ┆ 1.773482    │\n",
       "│ 20   ┆ Haruto Tanaka          ┆ 574.7  ┆ /users/haruto                      ┆ 1.325168    │\n",
       "│ 21   ┆ Zachariah Goldthorpe   ┆ 568.3  ┆ /users/zachariah-goldthorpe-5702   ┆ 1.048328    │\n",
       "│ 22   ┆ Isaak Coleman          ┆ 554.3  ┆ /users/isaak-coleman               ┆ 0.818002    │\n",
       "│ 23   ┆ Curtis Kan             ┆ 502.2  ┆ /users/lecitrus                    ┆ 0.592893    │\n",
       "│ 24   ┆ Brian Kang             ┆ 479.0  ┆ /users/brian-kang                  ┆ 0.452403    │\n",
       "│ 25   ┆ Joshua Ji              ┆ 468.1  ┆ /users/joshua-ji                   ┆ 0.353686    │\n",
       "│ 26   ┆ Jiabin Fan             ┆ 457.6  ┆ /users/jiabin-fan                  ┆ 0.276602    │\n",
       "│ 27   ┆ Ivan Zhang             ┆ 434.1  ┆ /users/zhang-yifan                 ┆ 0.209918    │\n",
       "│ 28   ┆ Tim Put                ┆ 429.0  ┆ /users/tim-put                     ┆ 0.165961    │\n",
       "│ 29   ┆ Jack Parsons           ┆ 426.1  ┆ /users/jack-parsonss               ┆ 0.131872    │\n",
       "│ 30   ┆ Jerry Xu               ┆ 424.8  ┆ /users/jerry-xu-20                 ┆ 0.105175    │\n",
       "│ 31   ┆ Hien Le                ┆ 423.4  ┆ /users/hien-le-1316                ┆ 0.083863    │\n",
       "│ 32   ┆ Vedant Vyas            ┆ 410.6  ┆ /users/vedu-x                      ┆ 0.065062    │\n",
       "│ 33   ┆ Marcus Der             ┆ 390.7  ┆ /users/marcus-der                  ┆ 0.049527    │\n",
       "│ 34   ┆ Hazem Ammar            ┆ 364.7  ┆ /users/hazem-ammar1                ┆ 0.036985    │\n",
       "│ 35   ┆ Boyuan Gu              ┆ 353.4  ┆ /users/char32                      ┆ 0.028671    │\n",
       "│ 36   ┆ Benjamin Lehmann       ┆ 353.3  ┆ /users/benjamin-lehmann            ┆ 0.02293     │\n",
       "│ 37   ┆ Andrew Juwon Park      ┆ 351.8  ┆ /users/andrew-juwon-park           ┆ 0.018267    │\n",
       "│ 38   ┆ Chong Wang             ┆ 337.0  ┆ /users/chong-wang1                 ┆ 0.013998    │\n",
       "│ 39   ┆ Jiacheng Wu            ┆ 335.1  ┆ /users/jiacheng-wu-6787            ┆ 0.011136    │\n",
       "│ 40   ┆ Tianyu Zhang           ┆ 333.7  ┆ /users/tzhang6                     ┆ 0.008871    │\n",
       "│ 41   ┆ Yunpeng Tang           ┆ 331.3  ┆ /users/claris                      ┆ 0.007046    │\n",
       "│ 42   ┆ Mason Bly              ┆ 330.5  ┆ /users/mason-bly                   ┆ 0.005623    │\n",
       "│ 43   ┆ Patchy                 ┆ 329.0  ┆ /users/cerret                      ┆ 0.004478    │\n",
       "│ 44   ┆ Yancheng Ou            ┆ 328.9  ┆ /users/yancheng-ou                 ┆ 0.003581    │\n",
       "│ 45   ┆ Akemi Izuko            ┆ 328.6  ┆ /users/akemi                       ┆ 0.002863    │\n",
       "│ 46   ┆ Xiaole Zeng            ┆ 322.0  ┆ /users/xiaole2                     ┆ 0.002244    │\n",
       "│ 47   ┆ Peter Elliott          ┆ 320.8  ┆ /users/petelliott                  ┆ 0.001789    │\n",
       "│ 48   ┆ Zeyu Li                ┆ 313.2  ┆ /users/zeyu-li                     ┆ 0.001397    │\n",
       "│ 49   ┆ Steven Tang            ┆ 305.9  ┆ /users/steven-tang                 ┆ 0.001091    │\n",
       "└──────┴────────────────────────┴────────┴────────────────────────────────────┴─────────────┘"
      ]
     },
     "execution_count": 4,
     "metadata": {},
     "output_type": "execute_result"
    }
   ],
   "source": [
    "p = parse_page(get_page(URLS['uofa']))\n",
    "pl.Config.set_fmt_str_lengths(100)\n",
    "pl.Config.set_tbl_rows(50)\n",
    "total = p['Score']\n",
    "df = kattis.get_group_df(URLS['uofa'])\n",
    "\n",
    "# Print the table in ASCII\n",
    "# print(df.__str__())\n",
    "\n",
    "# smh the other 600 people are bringing down our score\n",
    "# total - df['Contributed'].sum()\n",
    "# = -0.020937940515068476\n",
    "\n",
    "df"
   ]
  }
 ],
 "metadata": {
  "kernelspec": {
   "display_name": ".env",
   "language": "python",
   "name": "python3"
  },
  "language_info": {
   "codemirror_mode": {
    "name": "ipython",
    "version": 3
   },
   "file_extension": ".py",
   "mimetype": "text/x-python",
   "name": "python",
   "nbconvert_exporter": "python",
   "pygments_lexer": "ipython3",
   "version": "3.10.6"
  },
  "orig_nbformat": 4
 },
 "nbformat": 4,
 "nbformat_minor": 2
}
